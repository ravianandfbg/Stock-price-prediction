{
  "nbformat": 4,
  "nbformat_minor": 0,
  "metadata": {
    "colab": {
      "name": "Stock_Price_Prediction.ipynb",
      "provenance": [],
      "collapsed_sections": [],
      "authorship_tag": "ABX9TyNtQEuDQR178ruiCE8REwNp",
      "include_colab_link": true
    },
    "kernelspec": {
      "name": "python3",
      "display_name": "Python 3"
    }
  },
  "cells": [
    {
      "cell_type": "markdown",
      "metadata": {
        "id": "view-in-github",
        "colab_type": "text"
      },
      "source": [
        "<a href=\"https://colab.research.google.com/github/ravianandfbg/Stock-price-prediction-Apple-/blob/master/Stock_Price_Prediction.ipynb\" target=\"_parent\"><img src=\"https://colab.research.google.com/assets/colab-badge.svg\" alt=\"Open In Colab\"/></a>"
      ]
    },
    {
      "cell_type": "code",
      "metadata": {
        "id": "7Niu1kcqD3a6",
        "colab_type": "code",
        "colab": {}
      },
      "source": [
        "# Description: This program uses an artificial recurrent neural etwork called Long Short Term Memory (LSTM)\n",
        "#               to predict the closing stock price of a corporation (Apple Inc.) using the past 60 day stock price."
      ],
      "execution_count": null,
      "outputs": []
    },
    {
      "cell_type": "code",
      "metadata": {
        "id": "aju-ji9REIJ8",
        "colab_type": "code",
        "colab": {
          "base_uri": "https://localhost:8080/",
          "height": 88
        },
        "outputId": "0c054074-3ca5-45ab-9c73-149a7723f004"
      },
      "source": [
        "#Import the libraries\n",
        "import math\n",
        "import pandas_datareader as web\n",
        "import numpy as np\n",
        "import pandas as pd\n",
        "from sklearn.preprocessing import MinMaxScaler\n",
        "from keras.models import Sequential\n",
        "from keras.layers import Dense, LSTM\n",
        "import matplotlib.pyplot as plt\n",
        "plt.style.use('fivethirtyeight')"
      ],
      "execution_count": null,
      "outputs": [
        {
          "output_type": "stream",
          "text": [
            "/usr/local/lib/python3.6/dist-packages/pandas_datareader/compat/__init__.py:7: FutureWarning: pandas.util.testing is deprecated. Use the functions in the public API at pandas.testing instead.\n",
            "  from pandas.util.testing import assert_frame_equal\n",
            "Using TensorFlow backend.\n"
          ],
          "name": "stderr"
        }
      ]
    },
    {
      "cell_type": "code",
      "metadata": {
        "id": "NIs6IqTnENDU",
        "colab_type": "code",
        "colab": {
          "base_uri": "https://localhost:8080/",
          "height": 450
        },
        "outputId": "c0e9e4c7-c651-4c49-96b5-19ccf67f7811"
      },
      "source": [
        "#Get the stock quote \n",
        "df = web.DataReader('AAPL', data_source='yahoo', start='2020-01-01', end='2025-12-17') \n",
        "#Show the data \n",
        "df"
      ],
      "execution_count": null,
      "outputs": [
        {
          "output_type": "execute_result",
          "data": {
            "text/html": [
              "<div>\n",
              "<style scoped>\n",
              "    .dataframe tbody tr th:only-of-type {\n",
              "        vertical-align: middle;\n",
              "    }\n",
              "\n",
              "    .dataframe tbody tr th {\n",
              "        vertical-align: top;\n",
              "    }\n",
              "\n",
              "    .dataframe thead th {\n",
              "        text-align: right;\n",
              "    }\n",
              "</style>\n",
              "<table border=\"1\" class=\"dataframe\">\n",
              "  <thead>\n",
              "    <tr style=\"text-align: right;\">\n",
              "      <th></th>\n",
              "      <th>High</th>\n",
              "      <th>Low</th>\n",
              "      <th>Open</th>\n",
              "      <th>Close</th>\n",
              "      <th>Volume</th>\n",
              "      <th>Adj Close</th>\n",
              "    </tr>\n",
              "    <tr>\n",
              "      <th>Date</th>\n",
              "      <th></th>\n",
              "      <th></th>\n",
              "      <th></th>\n",
              "      <th></th>\n",
              "      <th></th>\n",
              "      <th></th>\n",
              "    </tr>\n",
              "  </thead>\n",
              "  <tbody>\n",
              "    <tr>\n",
              "      <th>2020-01-02</th>\n",
              "      <td>300.600006</td>\n",
              "      <td>295.190002</td>\n",
              "      <td>296.239990</td>\n",
              "      <td>300.350006</td>\n",
              "      <td>33870100.0</td>\n",
              "      <td>298.829956</td>\n",
              "    </tr>\n",
              "    <tr>\n",
              "      <th>2020-01-03</th>\n",
              "      <td>300.579987</td>\n",
              "      <td>296.500000</td>\n",
              "      <td>297.149994</td>\n",
              "      <td>297.429993</td>\n",
              "      <td>36580700.0</td>\n",
              "      <td>295.924713</td>\n",
              "    </tr>\n",
              "    <tr>\n",
              "      <th>2020-01-06</th>\n",
              "      <td>299.959991</td>\n",
              "      <td>292.750000</td>\n",
              "      <td>293.790009</td>\n",
              "      <td>299.799988</td>\n",
              "      <td>29596800.0</td>\n",
              "      <td>298.282715</td>\n",
              "    </tr>\n",
              "    <tr>\n",
              "      <th>2020-01-07</th>\n",
              "      <td>300.899994</td>\n",
              "      <td>297.480011</td>\n",
              "      <td>299.839996</td>\n",
              "      <td>298.390015</td>\n",
              "      <td>27218000.0</td>\n",
              "      <td>296.879883</td>\n",
              "    </tr>\n",
              "    <tr>\n",
              "      <th>2020-01-08</th>\n",
              "      <td>304.440002</td>\n",
              "      <td>297.160004</td>\n",
              "      <td>297.160004</td>\n",
              "      <td>303.190002</td>\n",
              "      <td>33019800.0</td>\n",
              "      <td>301.655548</td>\n",
              "    </tr>\n",
              "    <tr>\n",
              "      <th>...</th>\n",
              "      <td>...</td>\n",
              "      <td>...</td>\n",
              "      <td>...</td>\n",
              "      <td>...</td>\n",
              "      <td>...</td>\n",
              "      <td>...</td>\n",
              "    </tr>\n",
              "    <tr>\n",
              "      <th>2020-07-14</th>\n",
              "      <td>389.019989</td>\n",
              "      <td>375.510010</td>\n",
              "      <td>379.359985</td>\n",
              "      <td>388.230011</td>\n",
              "      <td>42747300.0</td>\n",
              "      <td>388.230011</td>\n",
              "    </tr>\n",
              "    <tr>\n",
              "      <th>2020-07-15</th>\n",
              "      <td>396.989990</td>\n",
              "      <td>385.959991</td>\n",
              "      <td>395.959991</td>\n",
              "      <td>390.899994</td>\n",
              "      <td>38299500.0</td>\n",
              "      <td>390.899994</td>\n",
              "    </tr>\n",
              "    <tr>\n",
              "      <th>2020-07-16</th>\n",
              "      <td>389.619995</td>\n",
              "      <td>383.619995</td>\n",
              "      <td>386.250000</td>\n",
              "      <td>386.089996</td>\n",
              "      <td>27644400.0</td>\n",
              "      <td>386.089996</td>\n",
              "    </tr>\n",
              "    <tr>\n",
              "      <th>2020-07-17</th>\n",
              "      <td>388.589996</td>\n",
              "      <td>383.359985</td>\n",
              "      <td>387.950012</td>\n",
              "      <td>385.309998</td>\n",
              "      <td>23046700.0</td>\n",
              "      <td>385.309998</td>\n",
              "    </tr>\n",
              "    <tr>\n",
              "      <th>2020-07-20</th>\n",
              "      <td>394.000000</td>\n",
              "      <td>384.250000</td>\n",
              "      <td>385.670013</td>\n",
              "      <td>393.429993</td>\n",
              "      <td>22531700.0</td>\n",
              "      <td>393.429993</td>\n",
              "    </tr>\n",
              "  </tbody>\n",
              "</table>\n",
              "<p>138 rows × 6 columns</p>\n",
              "</div>"
            ],
            "text/plain": [
              "                  High         Low  ...      Volume   Adj Close\n",
              "Date                                ...                        \n",
              "2020-01-02  300.600006  295.190002  ...  33870100.0  298.829956\n",
              "2020-01-03  300.579987  296.500000  ...  36580700.0  295.924713\n",
              "2020-01-06  299.959991  292.750000  ...  29596800.0  298.282715\n",
              "2020-01-07  300.899994  297.480011  ...  27218000.0  296.879883\n",
              "2020-01-08  304.440002  297.160004  ...  33019800.0  301.655548\n",
              "...                ...         ...  ...         ...         ...\n",
              "2020-07-14  389.019989  375.510010  ...  42747300.0  388.230011\n",
              "2020-07-15  396.989990  385.959991  ...  38299500.0  390.899994\n",
              "2020-07-16  389.619995  383.619995  ...  27644400.0  386.089996\n",
              "2020-07-17  388.589996  383.359985  ...  23046700.0  385.309998\n",
              "2020-07-20  394.000000  384.250000  ...  22531700.0  393.429993\n",
              "\n",
              "[138 rows x 6 columns]"
            ]
          },
          "metadata": {
            "tags": []
          },
          "execution_count": 24
        }
      ]
    },
    {
      "cell_type": "code",
      "metadata": {
        "id": "9i7yDvKoERTH",
        "colab_type": "code",
        "colab": {
          "base_uri": "https://localhost:8080/",
          "height": 34
        },
        "outputId": "011db7cc-7b82-4db1-da50-6bd1a6481f07"
      },
      "source": [
        "df.shape"
      ],
      "execution_count": null,
      "outputs": [
        {
          "output_type": "execute_result",
          "data": {
            "text/plain": [
              "(138, 6)"
            ]
          },
          "metadata": {
            "tags": []
          },
          "execution_count": 25
        }
      ]
    },
    {
      "cell_type": "code",
      "metadata": {
        "id": "I8uzqKJMEWTK",
        "colab_type": "code",
        "colab": {
          "base_uri": "https://localhost:8080/",
          "height": 558
        },
        "outputId": "e2a56d3a-2f22-4990-d0a4-3b35b13ca4db"
      },
      "source": [
        "#Visualize the closing price history\n",
        "plt.figure(figsize=(16,8))\n",
        "plt.title('Close Price History')\n",
        "plt.plot(df['Close'])\n",
        "plt.xlabel('Date',fontsize=18)\n",
        "plt.ylabel('Close Price USD ($)',fontsize=18)\n",
        "plt.show()"
      ],
      "execution_count": null,
      "outputs": [
        {
          "output_type": "display_data",
          "data": {
            "image/png": "[encoded data removed]",
            "text/plain": [
              "<Figure size 1152x576 with 1 Axes>"
            ]
          },
          "metadata": {
            "tags": []
          }
        }
      ]
    },
    {
      "cell_type": "code",
      "metadata": {
        "id": "jt8aNtK-EavV",
        "colab_type": "code",
        "colab": {}
      },
      "source": [
        "#Create a new dataframe with only the 'Close' column\n",
        "data = df.filter(['Close'])\n",
        "#Converting the dataframe to a numpy array\n",
        "dataset = data.values\n",
        "#Get /Compute the number of rows to train the model on\n",
        "training_data_len = math.ceil( len(dataset) *.8) "
      ],
      "execution_count": null,
      "outputs": []
    },
    {
      "cell_type": "code",
      "metadata": {
        "id": "AohEq1o9Efg_",
        "colab_type": "code",
        "colab": {}
      },
      "source": [
        "#Scale the all of the data to be values between 0 and 1 \n",
        "scaler = MinMaxScaler(feature_range=(0, 1)) \n",
        "scaled_data = scaler.fit_transform(dataset)"
      ],
      "execution_count": null,
      "outputs": []
    },
    {
      "cell_type": "code",
      "metadata": {
        "id": "kMYtRLwvEk3d",
        "colab_type": "code",
        "colab": {}
      },
      "source": [
        "#Create the scaled training data set \n",
        "train_data = scaled_data[0:training_data_len  , : ]\n",
        "#Split the data into x_train and y_train data sets\n",
        "x_train=[]\n",
        "y_train = []\n",
        "for i in range(60,len(train_data)):\n",
        "    x_train.append(train_data[i-60:i,0])\n",
        "    y_train.append(train_data[i,0])"
      ],
      "execution_count": null,
      "outputs": []
    },
    {
      "cell_type": "code",
      "metadata": {
        "id": "ySjxUBqYEpiC",
        "colab_type": "code",
        "colab": {}
      },
      "source": [
        "#Convert x_train and y_train to numpy arrays\n",
        "x_train, y_train = np.array(x_train), np.array(y_train)"
      ],
      "execution_count": null,
      "outputs": []
    },
    {
      "cell_type": "code",
      "metadata": {
        "id": "_XLJYMtCEtwp",
        "colab_type": "code",
        "colab": {}
      },
      "source": [
        "#Reshape the data into the shape accepted by the LSTM\n",
        "x_train = np.reshape(x_train, (x_train.shape[0],x_train.shape[1],1))"
      ],
      "execution_count": null,
      "outputs": []
    },
    {
      "cell_type": "code",
      "metadata": {
        "id": "er69ACuQExyQ",
        "colab_type": "code",
        "colab": {}
      },
      "source": [
        "#Build the LSTM network model\n",
        "model = Sequential()\n",
        "model.add(LSTM(units=50, return_sequences=True,input_shape=(x_train.shape[1],1)))\n",
        "model.add(LSTM(units=50, return_sequences=False))\n",
        "model.add(Dense(units=25))\n",
        "model.add(Dense(units=1))"
      ],
      "execution_count": null,
      "outputs": []
    },
    {
      "cell_type": "code",
      "metadata": {
        "id": "HRdHRTexE2VF",
        "colab_type": "code",
        "colab": {}
      },
      "source": [
        "#Compile the model\n",
        "model.compile(optimizer='adam', loss='mean_squared_error')"
      ],
      "execution_count": null,
      "outputs": []
    },
    {
      "cell_type": "code",
      "metadata": {
        "id": "a9aOYtbJE6mt",
        "colab_type": "code",
        "colab": {
          "base_uri": "https://localhost:8080/",
          "height": 68
        },
        "outputId": "0c016024-be80-467b-a8a4-98b4bac6416c"
      },
      "source": [
        "#Train the model\n",
        "model.fit(x_train, y_train, batch_size=1, epochs=1)"
      ],
      "execution_count": null,
      "outputs": [
        {
          "output_type": "stream",
          "text": [
            "Epoch 1/1\n",
            "51/51 [==============================] - 3s 57ms/step - loss: 0.0166\n"
          ],
          "name": "stdout"
        },
        {
          "output_type": "execute_result",
          "data": {
            "text/plain": [
              "<keras.callbacks.callbacks.History at 0x7fcb896149e8>"
            ]
          },
          "metadata": {
            "tags": []
          },
          "execution_count": 34
        }
      ]
    },
    {
      "cell_type": "code",
      "metadata": {
        "id": "B9DMuvfJFOn5",
        "colab_type": "code",
        "colab": {}
      },
      "source": [
        "#Test data set\n",
        "test_data = scaled_data[training_data_len - 60: , : ]\n",
        "#Create the x_test and y_test data sets\n",
        "x_test = []\n",
        "y_test =  dataset[training_data_len : , : ] #Get all of the rows from index 1603 to the rest and all of the columns (in this case it's only column 'Close'), so 2003 - 1603 = 400 rows of data\n",
        "for i in range(60,len(test_data)):\n",
        "    x_test.append(test_data[i-60:i,0])"
      ],
      "execution_count": null,
      "outputs": []
    },
    {
      "cell_type": "code",
      "metadata": {
        "id": "2N5YI6E1FTPp",
        "colab_type": "code",
        "colab": {}
      },
      "source": [
        "#Convert x_test to a numpy array \n",
        "x_test = np.array(x_test)"
      ],
      "execution_count": null,
      "outputs": []
    },
    {
      "cell_type": "code",
      "metadata": {
        "id": "O9S48Zz0Fax5",
        "colab_type": "code",
        "colab": {}
      },
      "source": [
        "#Reshape the data into the shape accepted by the LSTM\n",
        "x_test = np.reshape(x_test, (x_test.shape[0],x_test.shape[1],1))"
      ],
      "execution_count": null,
      "outputs": []
    },
    {
      "cell_type": "code",
      "metadata": {
        "id": "4eo-wz5PGLeh",
        "colab_type": "code",
        "colab": {}
      },
      "source": [
        "#Getting the models predicted price values\n",
        "predictions = model.predict(x_test) \n",
        "predictions = scaler.inverse_transform(predictions)#Undo scaling"
      ],
      "execution_count": null,
      "outputs": []
    },
    {
      "cell_type": "code",
      "metadata": {
        "id": "Js9RCATgGPQ7",
        "colab_type": "code",
        "colab": {
          "base_uri": "https://localhost:8080/",
          "height": 34
        },
        "outputId": "2679ddc8-9e19-446a-c480-d912172bba93"
      },
      "source": [
        "#Calculate/Get the value of RMSE\n",
        "rmse=np.sqrt(np.mean(((predictions- y_test)**2)))\n",
        "rmse"
      ],
      "execution_count": null,
      "outputs": [
        {
          "output_type": "execute_result",
          "data": {
            "text/plain": [
              "11.033645483071966"
            ]
          },
          "metadata": {
            "tags": []
          },
          "execution_count": 39
        }
      ]
    },
    {
      "cell_type": "code",
      "metadata": {
        "id": "gWdEywX9GWHj",
        "colab_type": "code",
        "colab": {
          "base_uri": "https://localhost:8080/",
          "height": 660
        },
        "outputId": "0a7c4ffe-7bfc-4b51-ad83-f01ba7239e2c"
      },
      "source": [
        "#Plot/Create the data for the graph\n",
        "train = data[:training_data_len]\n",
        "valid = data[training_data_len:]\n",
        "valid['Predictions'] = predictions\n",
        "\n",
        "#Visualize the data\n",
        "plt.figure(figsize=(16,8))\n",
        "plt.title('Model')\n",
        "plt.xlabel('Date', fontsize=18)\n",
        "plt.ylabel('Close Price USD ($)', fontsize=18)\n",
        "plt.plot(train['Close'])\n",
        "plt.plot(valid[['Close', 'Predictions']])\n",
        "plt.legend(['Train', 'Val', 'Predictions'], loc='lower right')\n",
        "plt.show()"
      ],
      "execution_count": null,
      "outputs": [
        {
          "output_type": "stream",
          "text": [
            "/usr/local/lib/python3.6/dist-packages/ipykernel_launcher.py:4: SettingWithCopyWarning: \n",
            "A value is trying to be set on a copy of a slice from a DataFrame.\n",
            "Try using .loc[row_indexer,col_indexer] = value instead\n",
            "\n",
            "See the caveats in the documentation: https://pandas.pydata.org/pandas-docs/stable/user_guide/indexing.html#returning-a-view-versus-a-copy\n",
            "  after removing the cwd from sys.path.\n"
          ],
          "name": "stderr"
        },
        {
          "output_type": "display_data",
          "data": {
            "image/png": "[encoded data removed]",
            "text/plain": [
              "<Figure size 1152x576 with 1 Axes>"
            ]
          },
          "metadata": {
            "tags": []
          }
        }
      ]
    },
    {
      "cell_type": "code",
      "metadata": {
        "id": "D20fsrFgGZ3K",
        "colab_type": "code",
        "colab": {
          "base_uri": "https://localhost:8080/",
          "height": 917
        },
        "outputId": "aad6eabf-16d8-47a0-87a0-083e911885a0"
      },
      "source": [
        "#Show the valid and predicted prices\n",
        "valid"
      ],
      "execution_count": null,
      "outputs": [
        {
          "output_type": "execute_result",
          "data": {
            "text/html": [
              "<div>\n",
              "<style scoped>\n",
              "    .dataframe tbody tr th:only-of-type {\n",
              "        vertical-align: middle;\n",
              "    }\n",
              "\n",
              "    .dataframe tbody tr th {\n",
              "        vertical-align: top;\n",
              "    }\n",
              "\n",
              "    .dataframe thead th {\n",
              "        text-align: right;\n",
              "    }\n",
              "</style>\n",
              "<table border=\"1\" class=\"dataframe\">\n",
              "  <thead>\n",
              "    <tr style=\"text-align: right;\">\n",
              "      <th></th>\n",
              "      <th>Close</th>\n",
              "      <th>Predictions</th>\n",
              "    </tr>\n",
              "    <tr>\n",
              "      <th>Date</th>\n",
              "      <th></th>\n",
              "      <th></th>\n",
              "    </tr>\n",
              "  </thead>\n",
              "  <tbody>\n",
              "    <tr>\n",
              "      <th>2020-06-11</th>\n",
              "      <td>335.899994</td>\n",
              "      <td>333.385559</td>\n",
              "    </tr>\n",
              "    <tr>\n",
              "      <th>2020-06-12</th>\n",
              "      <td>338.799988</td>\n",
              "      <td>335.408142</td>\n",
              "    </tr>\n",
              "    <tr>\n",
              "      <th>2020-06-15</th>\n",
              "      <td>342.989990</td>\n",
              "      <td>337.170471</td>\n",
              "    </tr>\n",
              "    <tr>\n",
              "      <th>2020-06-16</th>\n",
              "      <td>352.079987</td>\n",
              "      <td>338.868347</td>\n",
              "    </tr>\n",
              "    <tr>\n",
              "      <th>2020-06-17</th>\n",
              "      <td>351.589996</td>\n",
              "      <td>340.868378</td>\n",
              "    </tr>\n",
              "    <tr>\n",
              "      <th>2020-06-18</th>\n",
              "      <td>351.730011</td>\n",
              "      <td>342.897736</td>\n",
              "    </tr>\n",
              "    <tr>\n",
              "      <th>2020-06-19</th>\n",
              "      <td>349.720001</td>\n",
              "      <td>344.853607</td>\n",
              "    </tr>\n",
              "    <tr>\n",
              "      <th>2020-06-22</th>\n",
              "      <td>358.869995</td>\n",
              "      <td>346.563965</td>\n",
              "    </tr>\n",
              "    <tr>\n",
              "      <th>2020-06-23</th>\n",
              "      <td>366.529999</td>\n",
              "      <td>348.490448</td>\n",
              "    </tr>\n",
              "    <tr>\n",
              "      <th>2020-06-24</th>\n",
              "      <td>360.059998</td>\n",
              "      <td>350.790833</td>\n",
              "    </tr>\n",
              "    <tr>\n",
              "      <th>2020-06-25</th>\n",
              "      <td>364.839996</td>\n",
              "      <td>352.858704</td>\n",
              "    </tr>\n",
              "    <tr>\n",
              "      <th>2020-06-26</th>\n",
              "      <td>353.630005</td>\n",
              "      <td>354.940643</td>\n",
              "    </tr>\n",
              "    <tr>\n",
              "      <th>2020-06-29</th>\n",
              "      <td>361.779999</td>\n",
              "      <td>356.349365</td>\n",
              "    </tr>\n",
              "    <tr>\n",
              "      <th>2020-06-30</th>\n",
              "      <td>364.799988</td>\n",
              "      <td>357.716187</td>\n",
              "    </tr>\n",
              "    <tr>\n",
              "      <th>2020-07-01</th>\n",
              "      <td>364.109985</td>\n",
              "      <td>359.093567</td>\n",
              "    </tr>\n",
              "    <tr>\n",
              "      <th>2020-07-02</th>\n",
              "      <td>364.109985</td>\n",
              "      <td>360.361115</td>\n",
              "    </tr>\n",
              "    <tr>\n",
              "      <th>2020-07-06</th>\n",
              "      <td>373.850006</td>\n",
              "      <td>361.499573</td>\n",
              "    </tr>\n",
              "    <tr>\n",
              "      <th>2020-07-07</th>\n",
              "      <td>372.690002</td>\n",
              "      <td>362.976868</td>\n",
              "    </tr>\n",
              "    <tr>\n",
              "      <th>2020-07-08</th>\n",
              "      <td>381.369995</td>\n",
              "      <td>364.486816</td>\n",
              "    </tr>\n",
              "    <tr>\n",
              "      <th>2020-07-09</th>\n",
              "      <td>383.010010</td>\n",
              "      <td>366.374115</td>\n",
              "    </tr>\n",
              "    <tr>\n",
              "      <th>2020-07-10</th>\n",
              "      <td>383.679993</td>\n",
              "      <td>368.437378</td>\n",
              "    </tr>\n",
              "    <tr>\n",
              "      <th>2020-07-13</th>\n",
              "      <td>381.910004</td>\n",
              "      <td>370.530609</td>\n",
              "    </tr>\n",
              "    <tr>\n",
              "      <th>2020-07-14</th>\n",
              "      <td>388.230011</td>\n",
              "      <td>372.443970</td>\n",
              "    </tr>\n",
              "    <tr>\n",
              "      <th>2020-07-15</th>\n",
              "      <td>390.899994</td>\n",
              "      <td>374.464020</td>\n",
              "    </tr>\n",
              "    <tr>\n",
              "      <th>2020-07-16</th>\n",
              "      <td>386.089996</td>\n",
              "      <td>376.541595</td>\n",
              "    </tr>\n",
              "    <tr>\n",
              "      <th>2020-07-17</th>\n",
              "      <td>385.309998</td>\n",
              "      <td>378.298889</td>\n",
              "    </tr>\n",
              "    <tr>\n",
              "      <th>2020-07-20</th>\n",
              "      <td>393.429993</td>\n",
              "      <td>379.754425</td>\n",
              "    </tr>\n",
              "  </tbody>\n",
              "</table>\n",
              "</div>"
            ],
            "text/plain": [
              "                 Close  Predictions\n",
              "Date                               \n",
              "2020-06-11  335.899994   333.385559\n",
              "2020-06-12  338.799988   335.408142\n",
              "2020-06-15  342.989990   337.170471\n",
              "2020-06-16  352.079987   338.868347\n",
              "2020-06-17  351.589996   340.868378\n",
              "2020-06-18  351.730011   342.897736\n",
              "2020-06-19  349.720001   344.853607\n",
              "2020-06-22  358.869995   346.563965\n",
              "2020-06-23  366.529999   348.490448\n",
              "2020-06-24  360.059998   350.790833\n",
              "2020-06-25  364.839996   352.858704\n",
              "2020-06-26  353.630005   354.940643\n",
              "2020-06-29  361.779999   356.349365\n",
              "2020-06-30  364.799988   357.716187\n",
              "2020-07-01  364.109985   359.093567\n",
              "2020-07-02  364.109985   360.361115\n",
              "2020-07-06  373.850006   361.499573\n",
              "2020-07-07  372.690002   362.976868\n",
              "2020-07-08  381.369995   364.486816\n",
              "2020-07-09  383.010010   366.374115\n",
              "2020-07-10  383.679993   368.437378\n",
              "2020-07-13  381.910004   370.530609\n",
              "2020-07-14  388.230011   372.443970\n",
              "2020-07-15  390.899994   374.464020\n",
              "2020-07-16  386.089996   376.541595\n",
              "2020-07-17  385.309998   378.298889\n",
              "2020-07-20  393.429993   379.754425"
            ]
          },
          "metadata": {
            "tags": []
          },
          "execution_count": 41
        }
      ]
    },
    {
      "cell_type": "code",
      "metadata": {
        "id": "jzdWNkZHGePL",
        "colab_type": "code",
        "colab": {
          "base_uri": "https://localhost:8080/",
          "height": 34
        },
        "outputId": "d9fd1c7d-c25f-44fe-accd-8dde52cb7470"
      },
      "source": [
        "#Get the quote\n",
        "apple_quote = web.DataReader('AAPL', data_source='yahoo', start='2020-01-01', end='2025-12-17')\n",
        "\n",
        "#Create a new dataframe\n",
        "new_df = apple_quote.filter(['Close'])\n",
        "\n",
        "#Get teh last 60 day closing price \n",
        "last_60_days = new_df[-60:].values\n",
        "\n",
        "#Scale the data to be values between 0 and 1\n",
        "last_60_days_scaled = scaler.transform(last_60_days)\n",
        "\n",
        "#Create an empty list\n",
        "X_test = []\n",
        "\n",
        "#Append teh past 60 days\n",
        "X_test.append(last_60_days_scaled)\n",
        "\n",
        "#Convert the X_test data set to a numpy array\n",
        "X_test = np.array(X_test)\n",
        "\n",
        "#Reshape the data\n",
        "X_test = np.reshape(X_test, (X_test.shape[0], X_test.shape[1], 1))\n",
        "\n",
        "#Get the predicted scaled price\n",
        "pred_price = model.predict(X_test)\n",
        "\n",
        "#undo the scaling \n",
        "pred_price = scaler.inverse_transform(pred_price)\n",
        "print(pred_price)\n"
      ],
      "execution_count": null,
      "outputs": [
        {
          "output_type": "stream",
          "text": [
            "[[381.34506]]\n"
          ],
          "name": "stdout"
        }
      ]
    },
    {
      "cell_type": "code",
      "metadata": {
        "id": "cG8H8cB5Gsbi",
        "colab_type": "code",
        "colab": {
          "base_uri": "https://localhost:8080/",
          "height": 238
        },
        "outputId": "cf6e4fb3-e943-4c04-eca8-cd1b5f62a060"
      },
      "source": [
        "#Get the quote\n",
        "apple_quote2 = web.DataReader('AAPL', data_source='yahoo', start='2021-08-27', end='2021-08-27')\n",
        "print(apple_quote2['Close'])"
      ],
      "execution_count": null,
      "outputs": [
        {
          "output_type": "stream",
          "text": [
            "Date\n",
            "2019-12-18    279.739990\n",
            "2019-12-19    280.019989\n",
            "2019-12-20    279.440002\n",
            "2019-12-23    284.000000\n",
            "2019-12-24    284.269989\n",
            "                 ...    \n",
            "2020-07-14    388.230011\n",
            "2020-07-15    390.899994\n",
            "2020-07-16    386.089996\n",
            "2020-07-17    385.309998\n",
            "2020-07-20    393.429993\n",
            "Name: Close, Length: 147, dtype: float64\n"
          ],
          "name": "stdout"
        }
      ]
    }
  ]
}
